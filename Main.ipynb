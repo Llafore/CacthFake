{
 "cells": [
  {
   "cell_type": "markdown",
   "id": "64e9d7fc",
   "metadata": {},
   "source": [
    "# Um bot que verifica noticias enviadas em grupos de conversas\n",
    "\n",
    "#### O programa tem como objetivo verificar as notícias enviadas no grupo em que o bot foi adicionado, e verificar a veracidade, ao responder à mensagem mencionando o bot"
   ]
  },
  {
   "cell_type": "markdown",
   "id": "1f45b759",
   "metadata": {},
   "source": [
    "##### Realizando a instalação dos pacotes utilizados no projeto"
   ]
  },
  {
   "cell_type": "code",
   "execution_count": 2,
   "id": "986d50bd",
   "metadata": {
    "scrolled": true
   },
   "outputs": [
    {
     "name": "stdout",
     "output_type": "stream",
     "text": [
      "Instalação da dotenv bem sucedida!\n",
      "Instalação do SDK google bem sucedida!\n"
     ]
    }
   ],
   "source": [
    "import subprocess\n",
    "# biblioteca que protege a chave da API adicionando variáveis de ambiente ao projeto\n",
    "try:\n",
    "  subprocess.check_call([\"pip\", \"install\", \"python-dotenv\"])\n",
    "  print(\"Instalação da dotenv bem sucedida!\")\n",
    "except subprocess.CalledProcessError as e:\n",
    "  print(f\"Falha ao instalar a biblioteca: {e.output}\")\n",
    "# SDK utilizado para interagir com a API do google  \n",
    "try:\n",
    "  subprocess.check_call([\"pip\", \"install\", \"google-generativeai\"])\n",
    "  print(\"Instalação do SDK google bem sucedida!\")\n",
    "except subprocess.CalledProcessError as e:\n",
    "  print(f\"Falha ao instalar o SDK: {e.output}\")"
   ]
  },
  {
   "cell_type": "markdown",
   "id": "c74ebfa5",
   "metadata": {},
   "source": [
    "##### Preparando o ambiente para a criação de variáveis de ambiente (proteção da chave da api)"
   ]
  },
  {
   "cell_type": "code",
   "execution_count": 3,
   "id": "fc1c5f66",
   "metadata": {
    "scrolled": true
   },
   "outputs": [
    {
     "data": {
      "text/plain": [
       "True"
      ]
     },
     "execution_count": 3,
     "metadata": {},
     "output_type": "execute_result"
    }
   ],
   "source": [
    "from dotenv import load_dotenv\n",
    "import os\n",
    "load_dotenv()\n",
    "#print(os.environ[\"api_key\"])"
   ]
  },
  {
   "cell_type": "markdown",
   "id": "605885db",
   "metadata": {},
   "source": [
    "##### Importação de pacotes utilizados no código"
   ]
  },
  {
   "cell_type": "code",
   "execution_count": 4,
   "id": "4943f61a",
   "metadata": {},
   "outputs": [],
   "source": [
    "from pathlib import Path\n",
    "import hashlib\n",
    "import google.generativeai as genai"
   ]
  },
  {
   "cell_type": "markdown",
   "id": "ba55c3b7",
   "metadata": {},
   "source": [
    "##### configuração da chave da API e outros ajustes "
   ]
  },
  {
   "cell_type": "code",
   "execution_count": 5,
   "id": "610e2bf0",
   "metadata": {},
   "outputs": [],
   "source": [
    "genai.configure(api_key=os.environ[\"api_key\"])\n",
    "generation_config = {\n",
    "  \"temperature\": 1,\n",
    "  \"top_p\": 0.95,\n",
    "  \"top_k\": 0,\n",
    "  \"max_output_tokens\": 8192,\n",
    "}\n",
    "safety_settings = [\n",
    "  {\n",
    "    \"category\": \"HARM_CATEGORY_HARASSMENT\",\n",
    "    \"threshold\": \"BLOCK_MEDIUM_AND_ABOVE\"\n",
    "  },\n",
    "  {\n",
    "    \"category\": \"HARM_CATEGORY_HATE_SPEECH\",\n",
    "    \"threshold\": \"BLOCK_MEDIUM_AND_ABOVE\"\n",
    "  },\n",
    "  {\n",
    "    \"category\": \"HARM_CATEGORY_SEXUALLY_EXPLICIT\",\n",
    "    \"threshold\": \"BLOCK_MEDIUM_AND_ABOVE\"\n",
    "  },\n",
    "  {\n",
    "    \"category\": \"HARM_CATEGORY_DANGEROUS_CONTENT\",\n",
    "    \"threshold\": \"BLOCK_MEDIUM_AND_ABOVE\"\n",
    "  },\n",
    "]\n",
    "model = genai.GenerativeModel(model_name=\"gemini-1.0-pro\",\n",
    "                              generation_config=generation_config,\n",
    "                              safety_settings=safety_settings)"
   ]
  },
  {
   "cell_type": "markdown",
   "id": "eaab06da",
   "metadata": {},
   "source": [
    "##### Instruções e Treino "
   ]
  },
  {
   "cell_type": "code",
   "execution_count": 62,
   "id": "4283294b",
   "metadata": {},
   "outputs": [],
   "source": [
    "prompt_parts = [\n",
    "  \"pesquisar o input \\\"noticia\\\" e retornar \\\"Fake News \\\" ou \\\"Noticia verdadeira\\\". Em caso de verdade, compartilhar um link que comprove a veracidade.\",\n",
    "  \"noticia Neymar empresta helicóptero para ajudar vitimas do desastre no RS\",\n",
    "  \"veracidade Noticia verdadeira\\nhttps://terrabrasilnoticias.com/2024/05/helicoptero-de-neymar-aterrissa-em-porto-alegre-com-mantimentos-e-ajuda-em-resgate-veja-video/\",\n",
    "  \"noticia Maradona disse que Pelé tinha um péssimo futebol\",\n",
    "  \"veracidade Fake News\",\n",
    "  \"noticia \\\"kit gay\\\" foi distribuido nas escolas de todo pais\",\n",
    "  \"veracidade Fake News\",\n",
    "  \"noticia Itau doa R$10milhoes para as vitimas do RS\",\n",
    "  \"veracidade Noticia verdadeira\\nhttps://oglobo.globo.com/blogs/capital/post/2024/05/itau-anuncia-r-10-milhoes-em-doacoes-para-rs-e-isenta-tarifas-de-clientes-na-regiao.ghtml\",\n",
    "]"
   ]
  },
  {
   "cell_type": "markdown",
   "id": "83a10a54",
   "metadata": {},
   "source": [
    "##### Inserindo a noticia"
   ]
  },
  {
   "cell_type": "code",
   "execution_count": 66,
   "id": "4b1e63bf",
   "metadata": {},
   "outputs": [
    {
     "name": "stdout",
     "output_type": "stream",
     "text": [
      "Noticia: Pelé ganhou apenas 2 copas \n"
     ]
    }
   ],
   "source": [
    "entrada = input(\"Noticia: \")"
   ]
  },
  {
   "cell_type": "code",
   "execution_count": 67,
   "id": "4d1f4847",
   "metadata": {},
   "outputs": [
    {
     "name": "stdout",
     "output_type": "stream",
     "text": [
      "['pesquisar o input \"noticia\" e retornar \"Fake News \" ou \"Noticia verdadeira\". Em caso de verdade, compartilhar um link que comprove a veracidade.', 'noticia Neymar empresta helicóptero para ajudar vitimas do desastre no RS', 'veracidade Noticia verdadeira\\nhttps://terrabrasilnoticias.com/2024/05/helicoptero-de-neymar-aterrissa-em-porto-alegre-com-mantimentos-e-ajuda-em-resgate-veja-video/', 'noticia Maradona disse que Pelé tinha um péssimo futebol', 'veracidade Fake News', 'noticia \"kit gay\" foi distribuido nas escolas de todo pais', 'veracidade Fake News', 'noticia Itau doa R$10milhoes para as vitimas do RS', 'veracidade Noticia verdadeira\\nhttps://oglobo.globo.com/blogs/capital/post/2024/05/itau-anuncia-r-10-milhoes-em-doacoes-para-rs-e-isenta-tarifas-de-clientes-na-regiao.ghtml']\n",
      "['pesquisar o input \"noticia\" e retornar \"Fake News \" ou \"Noticia verdadeira\". Em caso de verdade, compartilhar um link que comprove a veracidade.', 'noticia Neymar empresta helicóptero para ajudar vitimas do desastre no RS', 'veracidade Noticia verdadeira\\nhttps://terrabrasilnoticias.com/2024/05/helicoptero-de-neymar-aterrissa-em-porto-alegre-com-mantimentos-e-ajuda-em-resgate-veja-video/', 'noticia Maradona disse que Pelé tinha um péssimo futebol', 'veracidade Fake News', 'noticia \"kit gay\" foi distribuido nas escolas de todo pais', 'veracidade Fake News', 'noticia Itau doa R$10milhoes para as vitimas do RS', 'veracidade Noticia verdadeira\\nhttps://oglobo.globo.com/blogs/capital/post/2024/05/itau-anuncia-r-10-milhoes-em-doacoes-para-rs-e-isenta-tarifas-de-clientes-na-regiao.ghtml', 'Pelé ganhou apenas 2 copas ']\n"
     ]
    }
   ],
   "source": [
    "envio = prompt_parts.copy()\n",
    "envio.append(entrada)\n",
    "\n",
    "print(prompt_parts)\n",
    "print(envio)"
   ]
  },
  {
   "cell_type": "code",
   "execution_count": 68,
   "id": "892b310b",
   "metadata": {},
   "outputs": [
    {
     "name": "stdout",
     "output_type": "stream",
     "text": [
      "noticia \"Pelé ganhou apenas 2 copas\"\n",
      "veracidade Fake News\n"
     ]
    }
   ],
   "source": [
    "resposta = model.generate_content(envio)\n",
    "print(resposta.text)"
   ]
  }
 ],
 "metadata": {
  "kernelspec": {
   "display_name": "Python 3 (ipykernel)",
   "language": "python",
   "name": "python3"
  },
  "language_info": {
   "codemirror_mode": {
    "name": "ipython",
    "version": 3
   },
   "file_extension": ".py",
   "mimetype": "text/x-python",
   "name": "python",
   "nbconvert_exporter": "python",
   "pygments_lexer": "ipython3",
   "version": "3.9.13"
  }
 },
 "nbformat": 4,
 "nbformat_minor": 5
}
