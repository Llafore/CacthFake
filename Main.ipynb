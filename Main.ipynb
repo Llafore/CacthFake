{
 "cells": [
  {
   "cell_type": "markdown",
   "id": "64e9d7fc",
   "metadata": {},
   "source": [
    "# Um bot que verifica noticias enviadas em grupos de conversas\n",
    "\n",
    "#### O programa tem como objetivo verificar as notícias enviadas no grupo em que o bot foi adicionado, e verificar a veracidade, ao responder à mensagem mencionando o bot"
   ]
  },
  {
   "cell_type": "markdown",
   "id": "1f45b759",
   "metadata": {},
   "source": [
    "##### Realizando a instalação dos pacotes utilizados no projeto"
   ]
  },
  {
   "cell_type": "code",
   "execution_count": null,
   "id": "986d50bd",
   "metadata": {
    "scrolled": true
   },
   "outputs": [],
   "source": [
    "import subprocess\n",
    "# biblioteca que protege a chave da API adicionando variáveis de ambiente ao projeto\n",
    "try:\n",
    "  subprocess.check_call([\"pip\", \"install\", \"python-dotenv\"])\n",
    "  print(\"Instalação da dotenv bem sucedida!\")\n",
    "except subprocess.CalledProcessError as e:\n",
    "  print(f\"Falha ao instalar a biblioteca: {e.output}\")\n",
    "# SDK utilizado para interagir com a API do google  \n",
    "try:\n",
    "  subprocess.check_call([\"pip\", \"install\", \"google-generativeai\"])\n",
    "  print(\"Instalação do SDK google bem sucedida!\")\n",
    "except subprocess.CalledProcessError as e:\n",
    "  print(f\"Falha ao instalar o SDK: {e.output}\")"
   ]
  },
  {
   "cell_type": "markdown",
   "id": "c74ebfa5",
   "metadata": {},
   "source": [
    "##### Preparando o ambiente para a criação de variáveis de ambiente (proteção da chave da api)"
   ]
  },
  {
   "cell_type": "code",
   "execution_count": 1,
   "id": "fc1c5f66",
   "metadata": {
    "scrolled": true
   },
   "outputs": [
    {
     "data": {
      "text/plain": [
       "True"
      ]
     },
     "execution_count": 1,
     "metadata": {},
     "output_type": "execute_result"
    }
   ],
   "source": [
    "from dotenv import load_dotenv\n",
    "import os\n",
    "load_dotenv()\n",
    "#print(os.environ[\"api_key\"])"
   ]
  },
  {
   "cell_type": "markdown",
   "id": "605885db",
   "metadata": {},
   "source": [
    "##### Importação de pacotes utilizados no código"
   ]
  },
  {
   "cell_type": "code",
   "execution_count": 2,
   "id": "4943f61a",
   "metadata": {},
   "outputs": [],
   "source": [
    "from pathlib import Path\n",
    "import hashlib\n",
    "import google.generativeai as genai"
   ]
  },
  {
   "cell_type": "markdown",
   "id": "ba55c3b7",
   "metadata": {},
   "source": [
    "##### configuração da chave da API e outros ajustes "
   ]
  },
  {
   "cell_type": "code",
   "execution_count": 3,
   "id": "610e2bf0",
   "metadata": {},
   "outputs": [],
   "source": [
    "genai.configure(api_key=os.environ[\"api_key\"])\n",
    "generation_config = {\n",
    "  \"temperature\": 0,\n",
    "  \"top_p\": 0.95,\n",
    "  \"top_k\": 0,\n",
    "  \"max_output_tokens\": 8192,\n",
    "}\n",
    "safety_settings = [\n",
    "  {\n",
    "    \"category\": \"HARM_CATEGORY_HARASSMENT\",\n",
    "    \"threshold\": \"BLOCK_MEDIUM_AND_ABOVE\"\n",
    "  },\n",
    "  {\n",
    "    \"category\": \"HARM_CATEGORY_HATE_SPEECH\",\n",
    "    \"threshold\": \"BLOCK_MEDIUM_AND_ABOVE\"\n",
    "  },\n",
    "  {\n",
    "    \"category\": \"HARM_CATEGORY_SEXUALLY_EXPLICIT\",\n",
    "    \"threshold\": \"BLOCK_MEDIUM_AND_ABOVE\"\n",
    "  },\n",
    "  {\n",
    "    \"category\": \"HARM_CATEGORY_DANGEROUS_CONTENT\",\n",
    "    \"threshold\": \"BLOCK_MEDIUM_AND_ABOVE\"\n",
    "  },\n",
    "]\n",
    "model = genai.GenerativeModel(model_name=\"gemini-1.5-pro-latest\",\n",
    "                              generation_config=generation_config,\n",
    "                              safety_settings=safety_settings)"
   ]
  },
  {
   "cell_type": "markdown",
   "id": "eaab06da",
   "metadata": {},
   "source": [
    "##### Instruções e Treino "
   ]
  },
  {
   "cell_type": "code",
   "execution_count": 9,
   "id": "4283294b",
   "metadata": {},
   "outputs": [],
   "source": [
    "instrucoes = \"Noticia: Neymar empresta helicóptero para ajudar vitimas do desastre no RS. Verdade https://www.terra.com.br/planeta/noticias/neymar-lota-aeronaves-com-mantimentos-para-ajudar-rs-estou-longe-mas-estou-orando,484f78491c906c071c6713552c7e3484t8dr6rj9.html \" \n",
    "instrucoes += \"Noticia: Maradona disse que Pelé tinha um péssimo futebol. Fake News \"\n",
    "instrucoes += \"Noticia: \\\"kit gay\\\" foi distribuido nas escolas de todo pais. Fake News https://noticias.uol.com.br/confere/ultimas-noticias/2022/09/26/kit-gay-distribuido-escola-camacari.htm \"\n",
    "instrucoes += \"Noticia: Itau doa R$10milhoes para as vitimas do RS. Verdade https://oglobo.globo.com/blogs/capital/post/2024/05/itau-anuncia-r-10-milhoes-em-doacoes-para-rs-e-isenta-tarifas-de-clientes-na-regiao.ghtml \"\n",
    "instrucoes += \"Seguindo os exemplos a cima, categorize a noticia a seguir como \\\"Fake News\\\" ou \\\"Verdade\\\". A mesma deve ser pesquisada na internet, e se possivel, junto a um link que comprova a categorização \"\n",
    "instrucoes += \"A resposta deve ser apenas \\\"Fake News\\\" ou \\\"Verdade\\\"\"\n",
    "instrucoes += \"Noticia: \""
   ]
  },
  {
   "cell_type": "markdown",
   "id": "83a10a54",
   "metadata": {},
   "source": [
    "##### Inserindo a noticia"
   ]
  },
  {
   "cell_type": "code",
   "execution_count": 5,
   "id": "4b1e63bf",
   "metadata": {},
   "outputs": [
    {
     "name": "stdout",
     "output_type": "stream",
     "text": [
      "Noticia: Madonna fez doacao ao RS devido as enchentes\n"
     ]
    }
   ],
   "source": [
    "entrada = input(\"Noticia: \")"
   ]
  },
  {
   "cell_type": "markdown",
   "id": "ac755fad",
   "metadata": {},
   "source": [
    "##### Criando a mensagem que será enviada ao AIstudio"
   ]
  },
  {
   "cell_type": "code",
   "execution_count": 10,
   "id": "4d1f4847",
   "metadata": {
    "scrolled": true
   },
   "outputs": [],
   "source": [
    "def envia_pergunta(treino, pergunta):\n",
    "    envio = treino + pergunta\n",
    "    return model.generate_content(envio)\n",
    "\n",
    "#print(instrucoes)\n",
    "#print(envio)"
   ]
  },
  {
   "cell_type": "markdown",
   "id": "cf6c3df5",
   "metadata": {},
   "source": [
    "##### Enviando e recebendo a resposta"
   ]
  },
  {
   "cell_type": "code",
   "execution_count": 11,
   "id": "dd2f05c9",
   "metadata": {},
   "outputs": [],
   "source": [
    "resposta = envia_pergunta(instrucoes, entrada)"
   ]
  },
  {
   "cell_type": "code",
   "execution_count": 12,
   "id": "892b310b",
   "metadata": {
    "scrolled": true
   },
   "outputs": [
    {
     "name": "stdout",
     "output_type": "stream",
     "text": [
      "Noticia: Madonna fez doacao ao RS devido as enchentes\n",
      "Tipo: Fake News \n",
      "\n"
     ]
    }
   ],
   "source": [
    "print(\"Noticia: \" + entrada)\n",
    "print(\"Tipo: \" + resposta.text)"
   ]
  }
 ],
 "metadata": {
  "kernelspec": {
   "display_name": "Python 3 (ipykernel)",
   "language": "python",
   "name": "python3"
  },
  "language_info": {
   "codemirror_mode": {
    "name": "ipython",
    "version": 3
   },
   "file_extension": ".py",
   "mimetype": "text/x-python",
   "name": "python",
   "nbconvert_exporter": "python",
   "pygments_lexer": "ipython3",
   "version": "3.9.13"
  }
 },
 "nbformat": 4,
 "nbformat_minor": 5
}
